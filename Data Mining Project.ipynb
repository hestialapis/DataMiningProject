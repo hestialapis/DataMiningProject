{
 "cells": [
  {
   "cell_type": "markdown",
   "id": "d4a5f8ae",
   "metadata": {},
   "source": [
    "## Data Mining Project - Ventilator Pressure Prediction"
   ]
  },
  {
   "cell_type": "markdown",
   "id": "fe3d443b",
   "metadata": {},
   "source": [
    "### Data Acquisition"
   ]
  },
  {
   "cell_type": "code",
   "execution_count": null,
   "id": "c44ceeaa",
   "metadata": {},
   "outputs": [],
   "source": []
  }
 ],
 "metadata": {
  "kernelspec": {
   "display_name": "Python 3",
   "language": "python",
   "name": "python3"
  },
  "language_info": {
   "codemirror_mode": {
    "name": "ipython",
    "version": 3
   },
   "file_extension": ".py",
   "mimetype": "text/x-python",
   "name": "python",
   "nbconvert_exporter": "python",
   "pygments_lexer": "ipython3",
   "version": "3.8.8"
  }
 },
 "nbformat": 4,
 "nbformat_minor": 5
}
