{
 "cells": [
  {
   "cell_type": "markdown",
   "id": "d4a5f8ae",
   "metadata": {},
   "source": [
    "# Data Mining Project - Ventilator Pressure Prediction"
   ]
  },
  {
   "cell_type": "markdown",
   "id": "7c79b889",
   "metadata": {},
   "source": [
    "## Introduction"
   ]
  },
  {
   "cell_type": "markdown",
   "id": "e0a00f72",
   "metadata": {},
   "source": [
    "This project aims to implement data mining techniques to solve the **Covid-19 ventilator control problem**. A ventilator provides mechanical ventilation by moving breathable air into and out of the lungs. In other words, doctors utilize a ventilator to pump oxygen into a patient’s lungs via a tube in the windpipe to help patients that are facing difficulties in breathing, especially for the Covid-19 patients. Mechanical ventilation is a clinical-intensive procedure and finding methods for operating these devices could be costly. Hence, simulators are used to simulate the real-life situation of patients. Each model would simulate a single lung setting. However, lungs and their attributes form a continuous space. Therefore, we must take into account the variances in the patient lungs. In this project, we would adopt data mining methods for simulating a ventilator that operates across lungs with different characteristics."
   ]
  },
  {
   "cell_type": "markdown",
   "id": "da93757d",
   "metadata": {},
   "source": [
    "## Problem Formulation"
   ]
  },
  {
   "cell_type": "markdown",
   "id": "91c62a6c",
   "metadata": {},
   "source": [
    "Problem formulation is the process of developing a data science solution to a business problem. This project will utilize data mining techniques to produce suitable models for simulating a ventilator.  \n",
    "* **Purpose**:  \n",
    "    * To `simulate a ventilator` connected to a patient’s lung.  \n",
    "    * To help overcome the cost barrier of developing new methods for `controlling mechanical ventilators`.  \n",
    "    * To generate algorithms that helps controlling mechanical ventilator and `reduce the workload` of medical personnel during the Covid-19 pandemic.   \n",
    "      \n",
    "* **Data mining problem**:   \n",
    "    * To `predict the airway pressure` in the respiratory circuit during the breath based on different attributes of patient lungs.  \n",
    "      \n",
    "* **Type of data mining problem**:   \n",
    "    * **Supervised**: develop predictive model based on input and output data, predicts future outputs based on given input and output data.   \n",
    "    * **Regression**: predict a value of a given continuous variable based on the values of other variables.  \n",
    "    * The airway pressure is `continuous and numerical`. Therefore, it cannot be solved using classification.   \n",
    "      \n",
    "* **Data to use**:   \n",
    "    * Ventilator data that was produced using a modified open-source ventilator connected to an artificial bellow test lung through a respiratory circuit.  \n"
   ]
  },
  {
   "cell_type": "markdown",
   "id": "b7af80e9",
   "metadata": {},
   "source": [
    "## 1. Import Libraries"
   ]
  },
  {
   "cell_type": "markdown",
   "id": "c1e38d43",
   "metadata": {},
   "source": [
    "Below are the libraries that are used for the data mining process including exploratory data analysis, data preprocessing, and feature engineering."
   ]
  },
  {
   "cell_type": "code",
   "execution_count": 33,
   "id": "5e84d095",
   "metadata": {},
   "outputs": [],
   "source": [
    "import pandas as pd\n",
    "import matplotlib.pyplot as plt     #visualization\n",
    "import seaborn as sns               #visualization\n",
    "import numpy as np\n",
    "import numpy.random as nr\n",
    "import math\n",
    "import missingno as missno\n",
    "\n",
    "from sklearn.model_selection import train_test_split\n",
    "\n",
    "%matplotlib inline"
   ]
  },
  {
   "cell_type": "markdown",
   "id": "746d10e9",
   "metadata": {},
   "source": [
    "## 2. Load Dataset into data frame"
   ]
  },
  {
   "cell_type": "markdown",
   "id": "bbb92e18",
   "metadata": {},
   "source": [
    "Load the dataset into a pandas data frame, which offers incredibly efficient ways to represent data."
   ]
  },
  {
   "cell_type": "code",
   "execution_count": 34,
   "id": "a7e59786",
   "metadata": {},
   "outputs": [
    {
     "data": {
      "text/html": [
       "<div>\n",
       "<style scoped>\n",
       "    .dataframe tbody tr th:only-of-type {\n",
       "        vertical-align: middle;\n",
       "    }\n",
       "\n",
       "    .dataframe tbody tr th {\n",
       "        vertical-align: top;\n",
       "    }\n",
       "\n",
       "    .dataframe thead th {\n",
       "        text-align: right;\n",
       "    }\n",
       "</style>\n",
       "<table border=\"1\" class=\"dataframe\">\n",
       "  <thead>\n",
       "    <tr style=\"text-align: right;\">\n",
       "      <th></th>\n",
       "      <th>id</th>\n",
       "      <th>breath_id</th>\n",
       "      <th>R</th>\n",
       "      <th>C</th>\n",
       "      <th>time_step</th>\n",
       "      <th>u_in</th>\n",
       "      <th>u_out</th>\n",
       "      <th>pressure</th>\n",
       "    </tr>\n",
       "  </thead>\n",
       "  <tbody>\n",
       "    <tr>\n",
       "      <th>0</th>\n",
       "      <td>1</td>\n",
       "      <td>1</td>\n",
       "      <td>20</td>\n",
       "      <td>50</td>\n",
       "      <td>0.000000</td>\n",
       "      <td>0.083334</td>\n",
       "      <td>0</td>\n",
       "      <td>5.837492</td>\n",
       "    </tr>\n",
       "    <tr>\n",
       "      <th>1</th>\n",
       "      <td>2</td>\n",
       "      <td>1</td>\n",
       "      <td>20</td>\n",
       "      <td>50</td>\n",
       "      <td>0.033652</td>\n",
       "      <td>18.383041</td>\n",
       "      <td>0</td>\n",
       "      <td>5.907794</td>\n",
       "    </tr>\n",
       "    <tr>\n",
       "      <th>2</th>\n",
       "      <td>3</td>\n",
       "      <td>1</td>\n",
       "      <td>20</td>\n",
       "      <td>50</td>\n",
       "      <td>0.067514</td>\n",
       "      <td>22.509278</td>\n",
       "      <td>0</td>\n",
       "      <td>7.876254</td>\n",
       "    </tr>\n",
       "    <tr>\n",
       "      <th>3</th>\n",
       "      <td>4</td>\n",
       "      <td>1</td>\n",
       "      <td>20</td>\n",
       "      <td>50</td>\n",
       "      <td>0.101542</td>\n",
       "      <td>22.808822</td>\n",
       "      <td>0</td>\n",
       "      <td>11.742872</td>\n",
       "    </tr>\n",
       "    <tr>\n",
       "      <th>4</th>\n",
       "      <td>5</td>\n",
       "      <td>1</td>\n",
       "      <td>20</td>\n",
       "      <td>50</td>\n",
       "      <td>0.135756</td>\n",
       "      <td>25.355850</td>\n",
       "      <td>0</td>\n",
       "      <td>12.234987</td>\n",
       "    </tr>\n",
       "    <tr>\n",
       "      <th>5</th>\n",
       "      <td>6</td>\n",
       "      <td>1</td>\n",
       "      <td>20</td>\n",
       "      <td>50</td>\n",
       "      <td>0.169698</td>\n",
       "      <td>27.259866</td>\n",
       "      <td>0</td>\n",
       "      <td>12.867706</td>\n",
       "    </tr>\n",
       "    <tr>\n",
       "      <th>6</th>\n",
       "      <td>7</td>\n",
       "      <td>1</td>\n",
       "      <td>20</td>\n",
       "      <td>50</td>\n",
       "      <td>0.203708</td>\n",
       "      <td>27.127486</td>\n",
       "      <td>0</td>\n",
       "      <td>14.695562</td>\n",
       "    </tr>\n",
       "    <tr>\n",
       "      <th>7</th>\n",
       "      <td>8</td>\n",
       "      <td>1</td>\n",
       "      <td>20</td>\n",
       "      <td>50</td>\n",
       "      <td>0.237723</td>\n",
       "      <td>26.807732</td>\n",
       "      <td>0</td>\n",
       "      <td>15.890699</td>\n",
       "    </tr>\n",
       "    <tr>\n",
       "      <th>8</th>\n",
       "      <td>9</td>\n",
       "      <td>1</td>\n",
       "      <td>20</td>\n",
       "      <td>50</td>\n",
       "      <td>0.271776</td>\n",
       "      <td>27.864715</td>\n",
       "      <td>0</td>\n",
       "      <td>15.539188</td>\n",
       "    </tr>\n",
       "    <tr>\n",
       "      <th>9</th>\n",
       "      <td>10</td>\n",
       "      <td>1</td>\n",
       "      <td>20</td>\n",
       "      <td>50</td>\n",
       "      <td>0.305732</td>\n",
       "      <td>28.313036</td>\n",
       "      <td>0</td>\n",
       "      <td>15.750094</td>\n",
       "    </tr>\n",
       "    <tr>\n",
       "      <th>10</th>\n",
       "      <td>11</td>\n",
       "      <td>1</td>\n",
       "      <td>20</td>\n",
       "      <td>50</td>\n",
       "      <td>0.339675</td>\n",
       "      <td>26.866758</td>\n",
       "      <td>0</td>\n",
       "      <td>17.296741</td>\n",
       "    </tr>\n",
       "    <tr>\n",
       "      <th>11</th>\n",
       "      <td>12</td>\n",
       "      <td>1</td>\n",
       "      <td>20</td>\n",
       "      <td>50</td>\n",
       "      <td>0.373680</td>\n",
       "      <td>26.762803</td>\n",
       "      <td>0</td>\n",
       "      <td>17.226439</td>\n",
       "    </tr>\n",
       "    <tr>\n",
       "      <th>12</th>\n",
       "      <td>13</td>\n",
       "      <td>1</td>\n",
       "      <td>20</td>\n",
       "      <td>50</td>\n",
       "      <td>0.407650</td>\n",
       "      <td>27.993274</td>\n",
       "      <td>0</td>\n",
       "      <td>16.171907</td>\n",
       "    </tr>\n",
       "    <tr>\n",
       "      <th>13</th>\n",
       "      <td>14</td>\n",
       "      <td>1</td>\n",
       "      <td>20</td>\n",
       "      <td>50</td>\n",
       "      <td>0.441804</td>\n",
       "      <td>26.789898</td>\n",
       "      <td>0</td>\n",
       "      <td>17.367044</td>\n",
       "    </tr>\n",
       "    <tr>\n",
       "      <th>14</th>\n",
       "      <td>15</td>\n",
       "      <td>1</td>\n",
       "      <td>20</td>\n",
       "      <td>50</td>\n",
       "      <td>0.476103</td>\n",
       "      <td>25.634070</td>\n",
       "      <td>0</td>\n",
       "      <td>18.070065</td>\n",
       "    </tr>\n",
       "    <tr>\n",
       "      <th>15</th>\n",
       "      <td>16</td>\n",
       "      <td>1</td>\n",
       "      <td>20</td>\n",
       "      <td>50</td>\n",
       "      <td>0.509996</td>\n",
       "      <td>26.280195</td>\n",
       "      <td>0</td>\n",
       "      <td>17.156137</td>\n",
       "    </tr>\n",
       "    <tr>\n",
       "      <th>16</th>\n",
       "      <td>17</td>\n",
       "      <td>1</td>\n",
       "      <td>20</td>\n",
       "      <td>50</td>\n",
       "      <td>0.544041</td>\n",
       "      <td>24.726714</td>\n",
       "      <td>0</td>\n",
       "      <td>18.280971</td>\n",
       "    </tr>\n",
       "    <tr>\n",
       "      <th>17</th>\n",
       "      <td>18</td>\n",
       "      <td>1</td>\n",
       "      <td>20</td>\n",
       "      <td>50</td>\n",
       "      <td>0.578179</td>\n",
       "      <td>23.467889</td>\n",
       "      <td>0</td>\n",
       "      <td>18.773086</td>\n",
       "    </tr>\n",
       "    <tr>\n",
       "      <th>18</th>\n",
       "      <td>19</td>\n",
       "      <td>1</td>\n",
       "      <td>20</td>\n",
       "      <td>50</td>\n",
       "      <td>0.612109</td>\n",
       "      <td>23.858434</td>\n",
       "      <td>0</td>\n",
       "      <td>17.859159</td>\n",
       "    </tr>\n",
       "    <tr>\n",
       "      <th>19</th>\n",
       "      <td>20</td>\n",
       "      <td>1</td>\n",
       "      <td>20</td>\n",
       "      <td>50</td>\n",
       "      <td>0.646055</td>\n",
       "      <td>21.883404</td>\n",
       "      <td>0</td>\n",
       "      <td>19.124597</td>\n",
       "    </tr>\n",
       "  </tbody>\n",
       "</table>\n",
       "</div>"
      ],
      "text/plain": [
       "    id  breath_id   R   C  time_step       u_in  u_out   pressure\n",
       "0    1          1  20  50   0.000000   0.083334      0   5.837492\n",
       "1    2          1  20  50   0.033652  18.383041      0   5.907794\n",
       "2    3          1  20  50   0.067514  22.509278      0   7.876254\n",
       "3    4          1  20  50   0.101542  22.808822      0  11.742872\n",
       "4    5          1  20  50   0.135756  25.355850      0  12.234987\n",
       "5    6          1  20  50   0.169698  27.259866      0  12.867706\n",
       "6    7          1  20  50   0.203708  27.127486      0  14.695562\n",
       "7    8          1  20  50   0.237723  26.807732      0  15.890699\n",
       "8    9          1  20  50   0.271776  27.864715      0  15.539188\n",
       "9   10          1  20  50   0.305732  28.313036      0  15.750094\n",
       "10  11          1  20  50   0.339675  26.866758      0  17.296741\n",
       "11  12          1  20  50   0.373680  26.762803      0  17.226439\n",
       "12  13          1  20  50   0.407650  27.993274      0  16.171907\n",
       "13  14          1  20  50   0.441804  26.789898      0  17.367044\n",
       "14  15          1  20  50   0.476103  25.634070      0  18.070065\n",
       "15  16          1  20  50   0.509996  26.280195      0  17.156137\n",
       "16  17          1  20  50   0.544041  24.726714      0  18.280971\n",
       "17  18          1  20  50   0.578179  23.467889      0  18.773086\n",
       "18  19          1  20  50   0.612109  23.858434      0  17.859159\n",
       "19  20          1  20  50   0.646055  21.883404      0  19.124597"
      ]
     },
     "execution_count": 34,
     "metadata": {},
     "output_type": "execute_result"
    }
   ],
   "source": [
    "Train_data = pd.read_csv('train.csv')\n",
    "Train_data.head(20)"
   ]
  },
  {
   "cell_type": "code",
   "execution_count": 35,
   "id": "44679214",
   "metadata": {},
   "outputs": [
    {
     "data": {
      "text/html": [
       "<div>\n",
       "<style scoped>\n",
       "    .dataframe tbody tr th:only-of-type {\n",
       "        vertical-align: middle;\n",
       "    }\n",
       "\n",
       "    .dataframe tbody tr th {\n",
       "        vertical-align: top;\n",
       "    }\n",
       "\n",
       "    .dataframe thead th {\n",
       "        text-align: right;\n",
       "    }\n",
       "</style>\n",
       "<table border=\"1\" class=\"dataframe\">\n",
       "  <thead>\n",
       "    <tr style=\"text-align: right;\">\n",
       "      <th></th>\n",
       "      <th>id</th>\n",
       "      <th>breath_id</th>\n",
       "      <th>R</th>\n",
       "      <th>C</th>\n",
       "      <th>time_step</th>\n",
       "      <th>u_in</th>\n",
       "      <th>u_out</th>\n",
       "    </tr>\n",
       "  </thead>\n",
       "  <tbody>\n",
       "    <tr>\n",
       "      <th>0</th>\n",
       "      <td>1</td>\n",
       "      <td>0</td>\n",
       "      <td>5</td>\n",
       "      <td>20</td>\n",
       "      <td>0.000000</td>\n",
       "      <td>0.000000</td>\n",
       "      <td>0</td>\n",
       "    </tr>\n",
       "    <tr>\n",
       "      <th>1</th>\n",
       "      <td>2</td>\n",
       "      <td>0</td>\n",
       "      <td>5</td>\n",
       "      <td>20</td>\n",
       "      <td>0.031904</td>\n",
       "      <td>7.515046</td>\n",
       "      <td>0</td>\n",
       "    </tr>\n",
       "    <tr>\n",
       "      <th>2</th>\n",
       "      <td>3</td>\n",
       "      <td>0</td>\n",
       "      <td>5</td>\n",
       "      <td>20</td>\n",
       "      <td>0.063827</td>\n",
       "      <td>14.651675</td>\n",
       "      <td>0</td>\n",
       "    </tr>\n",
       "    <tr>\n",
       "      <th>3</th>\n",
       "      <td>4</td>\n",
       "      <td>0</td>\n",
       "      <td>5</td>\n",
       "      <td>20</td>\n",
       "      <td>0.095751</td>\n",
       "      <td>21.230610</td>\n",
       "      <td>0</td>\n",
       "    </tr>\n",
       "    <tr>\n",
       "      <th>4</th>\n",
       "      <td>5</td>\n",
       "      <td>0</td>\n",
       "      <td>5</td>\n",
       "      <td>20</td>\n",
       "      <td>0.127644</td>\n",
       "      <td>26.320956</td>\n",
       "      <td>0</td>\n",
       "    </tr>\n",
       "    <tr>\n",
       "      <th>5</th>\n",
       "      <td>6</td>\n",
       "      <td>0</td>\n",
       "      <td>5</td>\n",
       "      <td>20</td>\n",
       "      <td>0.159557</td>\n",
       "      <td>30.486938</td>\n",
       "      <td>0</td>\n",
       "    </tr>\n",
       "    <tr>\n",
       "      <th>6</th>\n",
       "      <td>7</td>\n",
       "      <td>0</td>\n",
       "      <td>5</td>\n",
       "      <td>20</td>\n",
       "      <td>0.191471</td>\n",
       "      <td>33.545950</td>\n",
       "      <td>0</td>\n",
       "    </tr>\n",
       "    <tr>\n",
       "      <th>7</th>\n",
       "      <td>8</td>\n",
       "      <td>0</td>\n",
       "      <td>5</td>\n",
       "      <td>20</td>\n",
       "      <td>0.223402</td>\n",
       "      <td>35.717600</td>\n",
       "      <td>0</td>\n",
       "    </tr>\n",
       "    <tr>\n",
       "      <th>8</th>\n",
       "      <td>9</td>\n",
       "      <td>0</td>\n",
       "      <td>5</td>\n",
       "      <td>20</td>\n",
       "      <td>0.255337</td>\n",
       "      <td>36.971061</td>\n",
       "      <td>0</td>\n",
       "    </tr>\n",
       "    <tr>\n",
       "      <th>9</th>\n",
       "      <td>10</td>\n",
       "      <td>0</td>\n",
       "      <td>5</td>\n",
       "      <td>20</td>\n",
       "      <td>0.287230</td>\n",
       "      <td>37.542219</td>\n",
       "      <td>0</td>\n",
       "    </tr>\n",
       "    <tr>\n",
       "      <th>10</th>\n",
       "      <td>11</td>\n",
       "      <td>0</td>\n",
       "      <td>5</td>\n",
       "      <td>20</td>\n",
       "      <td>0.319135</td>\n",
       "      <td>37.434198</td>\n",
       "      <td>0</td>\n",
       "    </tr>\n",
       "    <tr>\n",
       "      <th>11</th>\n",
       "      <td>12</td>\n",
       "      <td>0</td>\n",
       "      <td>5</td>\n",
       "      <td>20</td>\n",
       "      <td>0.351068</td>\n",
       "      <td>37.137143</td>\n",
       "      <td>0</td>\n",
       "    </tr>\n",
       "    <tr>\n",
       "      <th>12</th>\n",
       "      <td>13</td>\n",
       "      <td>0</td>\n",
       "      <td>5</td>\n",
       "      <td>20</td>\n",
       "      <td>0.383002</td>\n",
       "      <td>35.937643</td>\n",
       "      <td>0</td>\n",
       "    </tr>\n",
       "    <tr>\n",
       "      <th>13</th>\n",
       "      <td>14</td>\n",
       "      <td>0</td>\n",
       "      <td>5</td>\n",
       "      <td>20</td>\n",
       "      <td>0.414878</td>\n",
       "      <td>34.712418</td>\n",
       "      <td>0</td>\n",
       "    </tr>\n",
       "    <tr>\n",
       "      <th>14</th>\n",
       "      <td>15</td>\n",
       "      <td>0</td>\n",
       "      <td>5</td>\n",
       "      <td>20</td>\n",
       "      <td>0.446796</td>\n",
       "      <td>33.132383</td>\n",
       "      <td>0</td>\n",
       "    </tr>\n",
       "    <tr>\n",
       "      <th>15</th>\n",
       "      <td>16</td>\n",
       "      <td>0</td>\n",
       "      <td>5</td>\n",
       "      <td>20</td>\n",
       "      <td>0.478691</td>\n",
       "      <td>31.092450</td>\n",
       "      <td>0</td>\n",
       "    </tr>\n",
       "    <tr>\n",
       "      <th>16</th>\n",
       "      <td>17</td>\n",
       "      <td>0</td>\n",
       "      <td>5</td>\n",
       "      <td>20</td>\n",
       "      <td>0.510588</td>\n",
       "      <td>28.771113</td>\n",
       "      <td>0</td>\n",
       "    </tr>\n",
       "    <tr>\n",
       "      <th>17</th>\n",
       "      <td>18</td>\n",
       "      <td>0</td>\n",
       "      <td>5</td>\n",
       "      <td>20</td>\n",
       "      <td>0.542469</td>\n",
       "      <td>26.216373</td>\n",
       "      <td>0</td>\n",
       "    </tr>\n",
       "    <tr>\n",
       "      <th>18</th>\n",
       "      <td>19</td>\n",
       "      <td>0</td>\n",
       "      <td>5</td>\n",
       "      <td>20</td>\n",
       "      <td>0.574380</td>\n",
       "      <td>23.537972</td>\n",
       "      <td>0</td>\n",
       "    </tr>\n",
       "    <tr>\n",
       "      <th>19</th>\n",
       "      <td>20</td>\n",
       "      <td>0</td>\n",
       "      <td>5</td>\n",
       "      <td>20</td>\n",
       "      <td>0.606316</td>\n",
       "      <td>20.548422</td>\n",
       "      <td>0</td>\n",
       "    </tr>\n",
       "  </tbody>\n",
       "</table>\n",
       "</div>"
      ],
      "text/plain": [
       "    id  breath_id  R   C  time_step       u_in  u_out\n",
       "0    1          0  5  20   0.000000   0.000000      0\n",
       "1    2          0  5  20   0.031904   7.515046      0\n",
       "2    3          0  5  20   0.063827  14.651675      0\n",
       "3    4          0  5  20   0.095751  21.230610      0\n",
       "4    5          0  5  20   0.127644  26.320956      0\n",
       "5    6          0  5  20   0.159557  30.486938      0\n",
       "6    7          0  5  20   0.191471  33.545950      0\n",
       "7    8          0  5  20   0.223402  35.717600      0\n",
       "8    9          0  5  20   0.255337  36.971061      0\n",
       "9   10          0  5  20   0.287230  37.542219      0\n",
       "10  11          0  5  20   0.319135  37.434198      0\n",
       "11  12          0  5  20   0.351068  37.137143      0\n",
       "12  13          0  5  20   0.383002  35.937643      0\n",
       "13  14          0  5  20   0.414878  34.712418      0\n",
       "14  15          0  5  20   0.446796  33.132383      0\n",
       "15  16          0  5  20   0.478691  31.092450      0\n",
       "16  17          0  5  20   0.510588  28.771113      0\n",
       "17  18          0  5  20   0.542469  26.216373      0\n",
       "18  19          0  5  20   0.574380  23.537972      0\n",
       "19  20          0  5  20   0.606316  20.548422      0"
      ]
     },
     "execution_count": 35,
     "metadata": {},
     "output_type": "execute_result"
    }
   ],
   "source": [
    "Test_data = pd.read_csv('test.csv')\n",
    "Test_data.head(20)"
   ]
  },
  {
   "cell_type": "markdown",
   "id": "16f75239",
   "metadata": {},
   "source": [
    "## 3. Data Preprocessing"
   ]
  },
  {
   "cell_type": "markdown",
   "id": "5f5f24b7",
   "metadata": {},
   "source": [
    "### Missing Value\n",
    "This section will check if there are any **Missing Values** in the given dataset. **Missing values** should be addressed before training a machine learning model to avoid obtaining baised results. Moreover, the scikit-learn Python package could not process arrays with missing values."
   ]
  },
  {
   "cell_type": "code",
   "execution_count": 36,
   "id": "bf8f6ef0",
   "metadata": {},
   "outputs": [
    {
     "data": {
      "text/plain": [
       "id           False\n",
       "breath_id    False\n",
       "R            False\n",
       "C            False\n",
       "time_step    False\n",
       "u_in         False\n",
       "u_out        False\n",
       "pressure     False\n",
       "dtype: bool"
      ]
     },
     "execution_count": 36,
     "metadata": {},
     "output_type": "execute_result"
    }
   ],
   "source": [
    "(Train_data.astype(object) == '?').any()"
   ]
  },
  {
   "cell_type": "code",
   "execution_count": 37,
   "id": "2ef1bf2a",
   "metadata": {},
   "outputs": [
    {
     "data": {
      "image/png": "[encoded data removed]",
      "text/plain": [
       "<Figure size 1440x216 with 3 Axes>"
      ]
     },
     "metadata": {
      "needs_background": "light"
     },
     "output_type": "display_data"
    }
   ],
   "source": [
    "missno.bar(Train_data, figsize = (20,3), fontsize = 12)\n",
    "plt.grid()"
   ]
  },
  {
   "cell_type": "code",
   "execution_count": 38,
   "id": "41f475b4",
   "metadata": {},
   "outputs": [
    {
     "data": {
      "text/plain": [
       "id           False\n",
       "breath_id    False\n",
       "R            False\n",
       "C            False\n",
       "time_step    False\n",
       "u_in         False\n",
       "u_out        False\n",
       "dtype: bool"
      ]
     },
     "execution_count": 38,
     "metadata": {},
     "output_type": "execute_result"
    }
   ],
   "source": [
    "(Test_data.astype(object) == '?').any()"
   ]
  },
  {
   "cell_type": "code",
   "execution_count": 39,
   "id": "0f76fa43",
   "metadata": {},
   "outputs": [
    {
     "data": {
      "image/png": "[encoded data removed]",
      "text/plain": [
       "<Figure size 1440x216 with 3 Axes>"
      ]
     },
     "metadata": {
      "needs_background": "light"
     },
     "output_type": "display_data"
    }
   ],
   "source": [
    "missno.bar(Test_data, figsize = (20,3), fontsize = 12)\n",
    "plt.grid()"
   ]
  },
  {
   "cell_type": "markdown",
   "id": "0924f34e",
   "metadata": {},
   "source": [
    "There are no missing values detected in both train and test datasets. Hence, no missing values needed to be treated in this project.\n"
   ]
  },
  {
   "cell_type": "markdown",
   "id": "be282cfb",
   "metadata": {},
   "source": [
    "### Data Types\n",
    "This section will check the data types of each column in both test and train datasets."
   ]
  },
  {
   "cell_type": "code",
   "execution_count": 40,
   "id": "055b9bab",
   "metadata": {
    "scrolled": true
   },
   "outputs": [
    {
     "data": {
      "text/plain": [
       "id             int64\n",
       "breath_id      int64\n",
       "R              int64\n",
       "C              int64\n",
       "time_step    float64\n",
       "u_in         float64\n",
       "u_out          int64\n",
       "pressure     float64\n",
       "dtype: object"
      ]
     },
     "execution_count": 40,
     "metadata": {},
     "output_type": "execute_result"
    }
   ],
   "source": [
    "Train_data.dtypes"
   ]
  },
  {
   "cell_type": "code",
   "execution_count": 41,
   "id": "08a0a23f",
   "metadata": {},
   "outputs": [
    {
     "data": {
      "text/plain": [
       "id             int64\n",
       "breath_id      int64\n",
       "R              int64\n",
       "C              int64\n",
       "time_step    float64\n",
       "u_in         float64\n",
       "u_out          int64\n",
       "dtype: object"
      ]
     },
     "execution_count": 41,
     "metadata": {},
     "output_type": "execute_result"
    }
   ],
   "source": [
    "Test_data.dtypes"
   ]
  },
  {
   "cell_type": "markdown",
   "id": "84eca031",
   "metadata": {},
   "source": [
    "The data type of both train and test datasets are consistent and accurate. The id, breath_id, R, C, and u_out are stored as **integer**. The time_step, u_in, and pressure are stored as **float**. Hence, no data type transformation required for this project."
   ]
  },
  {
   "cell_type": "markdown",
   "id": "879700ac",
   "metadata": {},
   "source": [
    "### Duplicated Rows\n",
    "This section will examine the datasets to eliminated duplicated records. This is to reduce the size of datasets and eliminate distrubting duplicated records that may affect the results of training model. "
   ]
  },
  {
   "cell_type": "code",
   "execution_count": 42,
   "id": "8ace98c8",
   "metadata": {},
   "outputs": [
    {
     "name": "stdout",
     "output_type": "stream",
     "text": [
      "(6036000, 8)\n",
      "(6036000,)\n"
     ]
    }
   ],
   "source": [
    "print(Train_data.shape)\n",
    "print(Train_data.id.unique().shape)"
   ]
  },
  {
   "cell_type": "code",
   "execution_count": 43,
   "id": "d91163c9",
   "metadata": {},
   "outputs": [
    {
     "name": "stdout",
     "output_type": "stream",
     "text": [
      "Duplicated values in Train Dataset: 0\n"
     ]
    },
    {
     "data": {
      "text/html": [
       "<div>\n",
       "<style scoped>\n",
       "    .dataframe tbody tr th:only-of-type {\n",
       "        vertical-align: middle;\n",
       "    }\n",
       "\n",
       "    .dataframe tbody tr th {\n",
       "        vertical-align: top;\n",
       "    }\n",
       "\n",
       "    .dataframe thead th {\n",
       "        text-align: right;\n",
       "    }\n",
       "</style>\n",
       "<table border=\"1\" class=\"dataframe\">\n",
       "  <thead>\n",
       "    <tr style=\"text-align: right;\">\n",
       "      <th></th>\n",
       "      <th>id</th>\n",
       "      <th>breath_id</th>\n",
       "      <th>R</th>\n",
       "      <th>C</th>\n",
       "      <th>time_step</th>\n",
       "      <th>u_in</th>\n",
       "      <th>u_out</th>\n",
       "      <th>pressure</th>\n",
       "    </tr>\n",
       "  </thead>\n",
       "  <tbody>\n",
       "  </tbody>\n",
       "</table>\n",
       "</div>"
      ],
      "text/plain": [
       "Empty DataFrame\n",
       "Columns: [id, breath_id, R, C, time_step, u_in, u_out, pressure]\n",
       "Index: []"
      ]
     },
     "execution_count": 43,
     "metadata": {},
     "output_type": "execute_result"
    }
   ],
   "source": [
    "train_duplicated = Train_data.duplicated()\n",
    "print('Duplicated values in Train Dataset: %d' % (train_duplicated.sum()))\n",
    "Train_data[train_duplicated]"
   ]
  },
  {
   "cell_type": "code",
   "execution_count": 44,
   "id": "8aa777b0",
   "metadata": {},
   "outputs": [
    {
     "name": "stdout",
     "output_type": "stream",
     "text": [
      "(4024000, 7)\n",
      "(4024000,)\n"
     ]
    }
   ],
   "source": [
    "print(Test_data.shape)\n",
    "print(Test_data.id.unique().shape)"
   ]
  },
  {
   "cell_type": "code",
   "execution_count": 45,
   "id": "ffedf73a",
   "metadata": {},
   "outputs": [
    {
     "name": "stdout",
     "output_type": "stream",
     "text": [
      "Duplicated values in Test Dataset: 0\n"
     ]
    },
    {
     "data": {
      "text/html": [
       "<div>\n",
       "<style scoped>\n",
       "    .dataframe tbody tr th:only-of-type {\n",
       "        vertical-align: middle;\n",
       "    }\n",
       "\n",
       "    .dataframe tbody tr th {\n",
       "        vertical-align: top;\n",
       "    }\n",
       "\n",
       "    .dataframe thead th {\n",
       "        text-align: right;\n",
       "    }\n",
       "</style>\n",
       "<table border=\"1\" class=\"dataframe\">\n",
       "  <thead>\n",
       "    <tr style=\"text-align: right;\">\n",
       "      <th></th>\n",
       "      <th>id</th>\n",
       "      <th>breath_id</th>\n",
       "      <th>R</th>\n",
       "      <th>C</th>\n",
       "      <th>time_step</th>\n",
       "      <th>u_in</th>\n",
       "      <th>u_out</th>\n",
       "    </tr>\n",
       "  </thead>\n",
       "  <tbody>\n",
       "  </tbody>\n",
       "</table>\n",
       "</div>"
      ],
      "text/plain": [
       "Empty DataFrame\n",
       "Columns: [id, breath_id, R, C, time_step, u_in, u_out]\n",
       "Index: []"
      ]
     },
     "execution_count": 45,
     "metadata": {},
     "output_type": "execute_result"
    }
   ],
   "source": [
    "test_duplicated = Test_data.duplicated()\n",
    "print('Duplicated values in Test Dataset: %d' % (test_duplicated.sum()))\n",
    "Test_data[test_duplicated]"
   ]
  },
  {
   "cell_type": "markdown",
   "id": "fd087f96",
   "metadata": {},
   "source": [
    "There are no duplicated rows in both train and test datasets. This project doesn't require to remove duplicated rows.\n"
   ]
  },
  {
   "cell_type": "markdown",
   "id": "08de8d30",
   "metadata": {},
   "source": [
    "### Drop Irrelevant Columns\n",
    "The column id and breath_id are not irrelevant with predicting the pressure. Hence, the columns are dropped."
   ]
  },
  {
   "cell_type": "code",
   "execution_count": 46,
   "id": "d4735fa0",
   "metadata": {},
   "outputs": [
    {
     "data": {
      "text/html": [
       "<div>\n",
       "<style scoped>\n",
       "    .dataframe tbody tr th:only-of-type {\n",
       "        vertical-align: middle;\n",
       "    }\n",
       "\n",
       "    .dataframe tbody tr th {\n",
       "        vertical-align: top;\n",
       "    }\n",
       "\n",
       "    .dataframe thead th {\n",
       "        text-align: right;\n",
       "    }\n",
       "</style>\n",
       "<table border=\"1\" class=\"dataframe\">\n",
       "  <thead>\n",
       "    <tr style=\"text-align: right;\">\n",
       "      <th></th>\n",
       "      <th>R</th>\n",
       "      <th>C</th>\n",
       "      <th>time_step</th>\n",
       "      <th>u_in</th>\n",
       "      <th>u_out</th>\n",
       "      <th>pressure</th>\n",
       "    </tr>\n",
       "  </thead>\n",
       "  <tbody>\n",
       "    <tr>\n",
       "      <th>0</th>\n",
       "      <td>20</td>\n",
       "      <td>50</td>\n",
       "      <td>0.000000</td>\n",
       "      <td>0.083334</td>\n",
       "      <td>0</td>\n",
       "      <td>5.837492</td>\n",
       "    </tr>\n",
       "    <tr>\n",
       "      <th>1</th>\n",
       "      <td>20</td>\n",
       "      <td>50</td>\n",
       "      <td>0.033652</td>\n",
       "      <td>18.383041</td>\n",
       "      <td>0</td>\n",
       "      <td>5.907794</td>\n",
       "    </tr>\n",
       "    <tr>\n",
       "      <th>2</th>\n",
       "      <td>20</td>\n",
       "      <td>50</td>\n",
       "      <td>0.067514</td>\n",
       "      <td>22.509278</td>\n",
       "      <td>0</td>\n",
       "      <td>7.876254</td>\n",
       "    </tr>\n",
       "    <tr>\n",
       "      <th>3</th>\n",
       "      <td>20</td>\n",
       "      <td>50</td>\n",
       "      <td>0.101542</td>\n",
       "      <td>22.808822</td>\n",
       "      <td>0</td>\n",
       "      <td>11.742872</td>\n",
       "    </tr>\n",
       "    <tr>\n",
       "      <th>4</th>\n",
       "      <td>20</td>\n",
       "      <td>50</td>\n",
       "      <td>0.135756</td>\n",
       "      <td>25.355850</td>\n",
       "      <td>0</td>\n",
       "      <td>12.234987</td>\n",
       "    </tr>\n",
       "  </tbody>\n",
       "</table>\n",
       "</div>"
      ],
      "text/plain": [
       "    R   C  time_step       u_in  u_out   pressure\n",
       "0  20  50   0.000000   0.083334      0   5.837492\n",
       "1  20  50   0.033652  18.383041      0   5.907794\n",
       "2  20  50   0.067514  22.509278      0   7.876254\n",
       "3  20  50   0.101542  22.808822      0  11.742872\n",
       "4  20  50   0.135756  25.355850      0  12.234987"
      ]
     },
     "execution_count": 46,
     "metadata": {},
     "output_type": "execute_result"
    }
   ],
   "source": [
    "train_data =  Train_data.copy()\n",
    "train_data.drop(columns=['id', 'breath_id'], axis = 1, inplace = True)\n",
    "train_data.head(5)"
   ]
  },
  {
   "cell_type": "code",
   "execution_count": 47,
   "id": "009c93a5",
   "metadata": {},
   "outputs": [
    {
     "data": {
      "text/html": [
       "<div>\n",
       "<style scoped>\n",
       "    .dataframe tbody tr th:only-of-type {\n",
       "        vertical-align: middle;\n",
       "    }\n",
       "\n",
       "    .dataframe tbody tr th {\n",
       "        vertical-align: top;\n",
       "    }\n",
       "\n",
       "    .dataframe thead th {\n",
       "        text-align: right;\n",
       "    }\n",
       "</style>\n",
       "<table border=\"1\" class=\"dataframe\">\n",
       "  <thead>\n",
       "    <tr style=\"text-align: right;\">\n",
       "      <th></th>\n",
       "      <th>R</th>\n",
       "      <th>C</th>\n",
       "      <th>time_step</th>\n",
       "      <th>u_in</th>\n",
       "      <th>u_out</th>\n",
       "    </tr>\n",
       "  </thead>\n",
       "  <tbody>\n",
       "    <tr>\n",
       "      <th>0</th>\n",
       "      <td>5</td>\n",
       "      <td>20</td>\n",
       "      <td>0.000000</td>\n",
       "      <td>0.000000</td>\n",
       "      <td>0</td>\n",
       "    </tr>\n",
       "    <tr>\n",
       "      <th>1</th>\n",
       "      <td>5</td>\n",
       "      <td>20</td>\n",
       "      <td>0.031904</td>\n",
       "      <td>7.515046</td>\n",
       "      <td>0</td>\n",
       "    </tr>\n",
       "    <tr>\n",
       "      <th>2</th>\n",
       "      <td>5</td>\n",
       "      <td>20</td>\n",
       "      <td>0.063827</td>\n",
       "      <td>14.651675</td>\n",
       "      <td>0</td>\n",
       "    </tr>\n",
       "    <tr>\n",
       "      <th>3</th>\n",
       "      <td>5</td>\n",
       "      <td>20</td>\n",
       "      <td>0.095751</td>\n",
       "      <td>21.230610</td>\n",
       "      <td>0</td>\n",
       "    </tr>\n",
       "    <tr>\n",
       "      <th>4</th>\n",
       "      <td>5</td>\n",
       "      <td>20</td>\n",
       "      <td>0.127644</td>\n",
       "      <td>26.320956</td>\n",
       "      <td>0</td>\n",
       "    </tr>\n",
       "  </tbody>\n",
       "</table>\n",
       "</div>"
      ],
      "text/plain": [
       "   R   C  time_step       u_in  u_out\n",
       "0  5  20   0.000000   0.000000      0\n",
       "1  5  20   0.031904   7.515046      0\n",
       "2  5  20   0.063827  14.651675      0\n",
       "3  5  20   0.095751  21.230610      0\n",
       "4  5  20   0.127644  26.320956      0"
      ]
     },
     "execution_count": 47,
     "metadata": {},
     "output_type": "execute_result"
    }
   ],
   "source": [
    "test_data =  Test_data.copy()\n",
    "test_data.drop(columns=['id', 'breath_id'], axis = 1, inplace = True)\n",
    "test_data.head(5)"
   ]
  },
  {
   "cell_type": "markdown",
   "id": "7aaef164",
   "metadata": {},
   "source": [
    "## 4. Data Visualization"
   ]
  },
  {
   "cell_type": "markdown",
   "id": "8014382d",
   "metadata": {},
   "source": [
    "### Histogram\n",
    "Histogram is used to summarized discrete or continuous data that are measured on an interval scale. It is used to illustrate the major features of the distribution of the data. "
   ]
  },
  {
   "cell_type": "code",
   "execution_count": 48,
   "id": "5112b339",
   "metadata": {},
   "outputs": [
    {
     "name": "stderr",
     "output_type": "stream",
     "text": [
      "C:\\Users\\User\\anaconda3\\lib\\site-packages\\seaborn\\distributions.py:2619: FutureWarning: `distplot` is a deprecated function and will be removed in a future version. Please adapt your code to use either `displot` (a figure-level function with similar flexibility) or `histplot` (an axes-level function for histograms).\n",
      "  warnings.warn(msg, FutureWarning)\n"
     ]
    },
    {
     "data": {
      "image/png": "[encoded data removed]",
      "text/plain": [
       "<Figure size 432x288 with 1 Axes>"
      ]
     },
     "metadata": {
      "needs_background": "light"
     },
     "output_type": "display_data"
    }
   ],
   "source": [
    "def histplot(vals, lab):\n",
    "    # Distribution plot of values\n",
    "    sns.distplot(vals)\n",
    "    plt.title('Histogram of ' + lab)\n",
    "    plt.xlabel('Value')\n",
    "    plt.ylabel('Density')\n",
    "    \n",
    "#labels = np.array(train_data['pressure'])\n",
    "histplot(train_data['pressure'], 'pressures')"
   ]
  },
  {
   "cell_type": "markdown",
   "id": "31618086",
   "metadata": {},
   "source": [
    "The distribution of pressure is both quite skewed to the left and multimodal. Given the skew and the fact that there are no values less than or equal to zero, a log transformation might be appropriate.\n",
    "\n",
    "The code in the cell below displays a histogram of the logarithm of pressures. Execute this code and examine the result.\n"
   ]
  },
  {
   "cell_type": "code",
   "execution_count": 49,
   "id": "3e71cfc4",
   "metadata": {},
   "outputs": [
    {
     "name": "stderr",
     "output_type": "stream",
     "text": [
      "C:\\Users\\User\\anaconda3\\lib\\site-packages\\pandas\\core\\arraylike.py:364: RuntimeWarning: invalid value encountered in log\n",
      "  result = getattr(ufunc, method)(*inputs, **kwargs)\n",
      "C:\\Users\\User\\anaconda3\\lib\\site-packages\\seaborn\\distributions.py:2619: FutureWarning: `distplot` is a deprecated function and will be removed in a future version. Please adapt your code to use either `displot` (a figure-level function with similar flexibility) or `histplot` (an axes-level function for histograms).\n",
      "  warnings.warn(msg, FutureWarning)\n"
     ]
    },
    {
     "data": {
      "image/png": "[encoded data removed]",
      "text/plain": [
       "<Figure size 432x288 with 1 Axes>"
      ]
     },
     "metadata": {
      "needs_background": "light"
     },
     "output_type": "display_data"
    }
   ],
   "source": [
    "TRAIN_DATA = train_data.copy()\n",
    "TRAIN_DATA['log_pressure'] = np.log(TRAIN_DATA['pressure'])\n",
    "histplot(TRAIN_DATA['log_pressure'],'log_pressures')"
   ]
  },
  {
   "cell_type": "markdown",
   "id": "855cc0a6",
   "metadata": {},
   "source": [
    "The distribution of the logarithm of pressure has reduced some skewness, but still shows some multimodal tendency and skew. More improvement should be done.\n",
    "To examine how the transformation change the relationship between the label and some of the features, we would execute the code in the cell below. "
   ]
  },
  {
   "cell_type": "code",
   "execution_count": 50,
   "id": "8a80f9b2",
   "metadata": {},
   "outputs": [],
   "source": [
    "data = Train_data[Train_data['breath_id'] < 5].reset_index(drop=True)"
   ]
  },
  {
   "cell_type": "code",
   "execution_count": 51,
   "id": "f63098cd",
   "metadata": {},
   "outputs": [
    {
     "data": {
      "text/html": [
       "<div>\n",
       "<style scoped>\n",
       "    .dataframe tbody tr th:only-of-type {\n",
       "        vertical-align: middle;\n",
       "    }\n",
       "\n",
       "    .dataframe tbody tr th {\n",
       "        vertical-align: top;\n",
       "    }\n",
       "\n",
       "    .dataframe thead th {\n",
       "        text-align: right;\n",
       "    }\n",
       "</style>\n",
       "<table border=\"1\" class=\"dataframe\">\n",
       "  <thead>\n",
       "    <tr style=\"text-align: right;\">\n",
       "      <th></th>\n",
       "      <th>id</th>\n",
       "      <th>breath_id</th>\n",
       "      <th>R</th>\n",
       "      <th>C</th>\n",
       "      <th>time_step</th>\n",
       "      <th>u_in</th>\n",
       "      <th>u_out</th>\n",
       "      <th>pressure</th>\n",
       "    </tr>\n",
       "  </thead>\n",
       "  <tbody>\n",
       "    <tr>\n",
       "      <th>0</th>\n",
       "      <td>1</td>\n",
       "      <td>1</td>\n",
       "      <td>20</td>\n",
       "      <td>50</td>\n",
       "      <td>0.000000</td>\n",
       "      <td>0.083334</td>\n",
       "      <td>0</td>\n",
       "      <td>5.837492</td>\n",
       "    </tr>\n",
       "    <tr>\n",
       "      <th>1</th>\n",
       "      <td>2</td>\n",
       "      <td>1</td>\n",
       "      <td>20</td>\n",
       "      <td>50</td>\n",
       "      <td>0.033652</td>\n",
       "      <td>18.383041</td>\n",
       "      <td>0</td>\n",
       "      <td>5.907794</td>\n",
       "    </tr>\n",
       "    <tr>\n",
       "      <th>2</th>\n",
       "      <td>3</td>\n",
       "      <td>1</td>\n",
       "      <td>20</td>\n",
       "      <td>50</td>\n",
       "      <td>0.067514</td>\n",
       "      <td>22.509278</td>\n",
       "      <td>0</td>\n",
       "      <td>7.876254</td>\n",
       "    </tr>\n",
       "    <tr>\n",
       "      <th>3</th>\n",
       "      <td>4</td>\n",
       "      <td>1</td>\n",
       "      <td>20</td>\n",
       "      <td>50</td>\n",
       "      <td>0.101542</td>\n",
       "      <td>22.808822</td>\n",
       "      <td>0</td>\n",
       "      <td>11.742872</td>\n",
       "    </tr>\n",
       "    <tr>\n",
       "      <th>4</th>\n",
       "      <td>5</td>\n",
       "      <td>1</td>\n",
       "      <td>20</td>\n",
       "      <td>50</td>\n",
       "      <td>0.135756</td>\n",
       "      <td>25.355850</td>\n",
       "      <td>0</td>\n",
       "      <td>12.234987</td>\n",
       "    </tr>\n",
       "  </tbody>\n",
       "</table>\n",
       "</div>"
      ],
      "text/plain": [
       "   id  breath_id   R   C  time_step       u_in  u_out   pressure\n",
       "0   1          1  20  50   0.000000   0.083334      0   5.837492\n",
       "1   2          1  20  50   0.033652  18.383041      0   5.907794\n",
       "2   3          1  20  50   0.067514  22.509278      0   7.876254\n",
       "3   4          1  20  50   0.101542  22.808822      0  11.742872\n",
       "4   5          1  20  50   0.135756  25.355850      0  12.234987"
      ]
     },
     "execution_count": 51,
     "metadata": {},
     "output_type": "execute_result"
    }
   ],
   "source": [
    "data.head()"
   ]
  },
  {
   "cell_type": "code",
   "execution_count": 52,
   "id": "fd6ccae4",
   "metadata": {},
   "outputs": [],
   "source": [
    "def plot_sample(sample_id, data):\n",
    "    data_breath = data[data['breath_id'] == sample_id]\n",
    "    r, c  = data_breath[['R', 'C']].values[0]\n",
    "\n",
    "    cols = ['u_in', 'u_out', 'pressure'] if 'pressure' in data.columns else ['u_in', 'u_out']\n",
    "    \n",
    "    plt.figure(figsize=(12, 4))\n",
    "    for col in ['u_in', 'u_out', 'pressure']:\n",
    "        plt.plot(data_breath['time_step'], data_breath[col], label=col)\n",
    "        \n",
    "    plt.legend()\n",
    "    plt.title(f'Sample {sample_id} - R={r}, C={c}')"
   ]
  },
  {
   "cell_type": "code",
   "execution_count": 53,
   "id": "ca1ae5fc",
   "metadata": {
    "scrolled": true
   },
   "outputs": [
    {
     "data": {
      "image/png": "[encoded data removed]",
      "text/plain": [
       "<Figure size 864x288 with 1 Axes>"
      ]
     },
     "metadata": {
      "needs_background": "light"
     },
     "output_type": "display_data"
    },
    {
     "data": {
      "image/png": "[encoded data removed]",
      "text/plain": [
       "<Figure size 864x288 with 1 Axes>"
      ]
     },
     "metadata": {
      "needs_background": "light"
     },
     "output_type": "display_data"
    },
    {
     "data": {
      "image/png": "[encoded data removed]",
      "text/plain": [
       "<Figure size 864x288 with 1 Axes>"
      ]
     },
     "metadata": {
      "needs_background": "light"
     },
     "output_type": "display_data"
    },
    {
     "data": {
      "image/png": "[encoded data removed]",
      "text/plain": [
       "<Figure size 864x288 with 1 Axes>"
      ]
     },
     "metadata": {
      "needs_background": "light"
     },
     "output_type": "display_data"
    }
   ],
   "source": [
    "for i in data['breath_id'].unique():\n",
    "    plot_sample(i, Train_data)"
   ]
  },
  {
   "cell_type": "markdown",
   "id": "a75ce945",
   "metadata": {},
   "source": [
    "Pressure rises when u_out=0, then drops when u_out=1.We can also observe that u_in have a irregular pattern and somehow correlate to pressure."
   ]
  },
  {
   "cell_type": "markdown",
   "id": "c1e6832e",
   "metadata": {},
   "source": [
    "## 5. Feature Selection"
   ]
  },
  {
   "cell_type": "markdown",
   "id": "7dd376d3",
   "metadata": {},
   "source": [
    "### Box Plot"
   ]
  },
  {
   "cell_type": "markdown",
   "id": "1af4a30e",
   "metadata": {},
   "source": [
    "Box plot is used to visualize distributions and also could be used to find outliers in a datasets. It effectively summarises the data and makes it straightforward to compare between groups. A boxplot uses the 25th, 50th, and 75th percentiles to summarise a sample of data. The lower quartile, median, and higher quartile are other names for these percentiles."
   ]
  },
  {
   "cell_type": "code",
   "execution_count": 54,
   "id": "37592d93",
   "metadata": {},
   "outputs": [
    {
     "data": {
      "image/png": "[encoded data removed]",
      "text/plain": [
       "<Figure size 1440x432 with 6 Axes>"
      ]
     },
     "metadata": {
      "needs_background": "light"
     },
     "output_type": "display_data"
    }
   ],
   "source": [
    "a = 2\n",
    "b = 3\n",
    "c = 1\n",
    "\n",
    "plt.figure(figsize = (20,6))\n",
    "for col in train_data.columns:\n",
    "    plt.subplot(a,b,c)\n",
    "    sns.boxplot(x=train_data[col], palette='Set2')\n",
    "    plt.xlabel('{}'.format(col), fontsize = 15)\n",
    "    plt.xticks(fontsize = 12)\n",
    "    \n",
    "    c = c+1\n",
    "\n",
    "plt.tight_layout()"
   ]
  },
  {
   "cell_type": "markdown",
   "id": "c8caccfe",
   "metadata": {},
   "source": [
    "From the box plot, we can get some initial visualization of how the data is distributed. It can be concluded that R & C are constants. There are outliers in _u_ _ _in_ and _pressure_ but it is not necessary to drop as _u_ _ _in_ is one of the inputs and _pressure_ is required to train the models."
   ]
  },
  {
   "cell_type": "markdown",
   "id": "8c30c1b4",
   "metadata": {},
   "source": [
    "### Heat Maps\n",
    "A **heat map** is used for visualizing data where values are depicted by color. It is commonly used to find the dependent variables by looking into the relationship between features. Heat map is a good tool to observe all the correlation between all features."
   ]
  },
  {
   "cell_type": "markdown",
   "id": "f75d2301",
   "metadata": {},
   "source": [
    "If the value is 1, it is said to be a positive correlation between two variables. This means that when one variable increases, the other variable also increases.\n",
    "\n",
    "If the value is -1, it is said to be a negative correlation between the two variables. This means that when one variable increases, the other variable decreases.\n",
    "\n",
    "If the value is 0, there is no correlation between the two variables. This means that the variables changes in a random manner with respect to each other."
   ]
  },
  {
   "cell_type": "code",
   "execution_count": 55,
   "id": "80e37f2d",
   "metadata": {},
   "outputs": [
    {
     "data": {
      "image/png": "[encoded data removed]",
      "text/plain": [
       "<Figure size 1440x720 with 2 Axes>"
      ]
     },
     "metadata": {
      "needs_background": "light"
     },
     "output_type": "display_data"
    }
   ],
   "source": [
    "plt.figure(figsize = (20,10))\n",
    "sns.heatmap(train_data.corr(), annot = True, fmt = '3.2f' , annot_kws={'size' : 12}, cmap=\"BrBG\")\n",
    "plt.xticks(fontsize = 14)\n",
    "plt.yticks(fontsize = 14)\n",
    "plt.show()"
   ]
  },
  {
   "cell_type": "markdown",
   "id": "6e6ddc39",
   "metadata": {},
   "source": [
    "From the heatmap we can conclude that there are nearly no correlation between R and C with other variables. There is a positive correlation between u_in and pressure and negative correlation between u_out and pressure. Time_step could be removed as it is correlated to u_out."
   ]
  },
  {
   "cell_type": "code",
   "execution_count": 56,
   "id": "acda63c7",
   "metadata": {},
   "outputs": [],
   "source": [
    "data_train = train_data.copy()\n",
    "data_train.drop(columns=['time_step'], axis = 1, inplace = True)"
   ]
  },
  {
   "cell_type": "markdown",
   "id": "6dac4bb0",
   "metadata": {},
   "source": [
    "The data is separated using **train_test_split** to prevent model from overfitting and to accurately evaluate the model."
   ]
  },
  {
   "cell_type": "code",
   "execution_count": 57,
   "id": "1a92536a",
   "metadata": {},
   "outputs": [],
   "source": [
    "X = data_train.drop(columns='pressure')\n",
    "y = data_train['pressure']"
   ]
  },
  {
   "cell_type": "code",
   "execution_count": 58,
   "id": "f56122b6",
   "metadata": {},
   "outputs": [
    {
     "name": "stdout",
     "output_type": "stream",
     "text": [
      "Dimension of X_train: (4225200, 4) \n",
      "Dimension of X_validation: (1810800, 4) \n",
      "Dimension of y_train: (4225200,) \n",
      "Dimension of y_validation: (1810800,)\n"
     ]
    }
   ],
   "source": [
    "X_train, X_validation, y_train, y_validation = train_test_split(X, y, test_size=0.30, random_state=1)\n",
    "print('Dimension of X_train:', X_train.shape,'\\nDimension of X_validation:', X_validation.shape,\n",
    "      '\\nDimension of y_train:', y_train.shape,'\\nDimension of y_validation:', y_validation.shape)"
   ]
  }
 ],
 "metadata": {
  "kernelspec": {
   "display_name": "Python 3 (ipykernel)",
   "language": "python",
   "name": "python3"
  },
  "language_info": {
   "codemirror_mode": {
    "name": "ipython",
    "version": 3
   },
   "file_extension": ".py",
   "mimetype": "text/x-python",
   "name": "python",
   "nbconvert_exporter": "python",
   "pygments_lexer": "ipython3",
   "version": "3.9.7"
  }
 },
 "nbformat": 4,
 "nbformat_minor": 5
}
