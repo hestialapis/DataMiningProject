{
 "cells": [
  {
   "cell_type": "code",
   "execution_count": 1,
   "id": "66bbec19",
   "metadata": {},
   "outputs": [],
   "source": [
    "import pandas as pd\n",
    "import matplotlib.pyplot as plt\n",
    "import seaborn as sns\n",
    "import numpy as np\n",
    "import numpy.random as nr\n",
    "import math\n",
    "import joblib\n",
    "\n",
    "from sklearn.model_selection import train_test_split\n",
    "from sklearn.linear_model import LinearRegression\n",
    "from sklearn.ensemble import RandomForestRegressor, GradientBoostingRegressor, ExtraTreesRegressor\n",
    "from sklearn.neighbors import KNeighborsRegressor\n",
    "from sklearn.tree import DecisionTreeRegressor\n",
    "from xgboost import XGBRegressor\n",
    "from sklearn.svm import SVR\n",
    "from sklearn.pipeline import make_pipeline\n",
    "from sklearn.preprocessing import StandardScaler\n",
    "from lightgbm import LGBMRegressor\n",
    "\n",
    "from sklearn.metrics import r2_score, mean_absolute_error, mean_squared_error\n",
    "from sklearn.model_selection import GridSearchCV"
   ]
  },
  {
   "cell_type": "markdown",
   "id": "69b61ade",
   "metadata": {},
   "source": [
    "Support Vector Machine can be used for regression as well, employing largely the same principles as SVM for classification, mainly, to find an optimal hyperplane in an n-dimensional space, where n = number of features. \n",
    "\n",
    "In SVR, a kernel is used for finding a hyperplane in a higher-dimensional space while reducing the cost. A kernel is a function that is able to convert a lower dimensional dataset into a higher dimensional dataset. \n",
    "\n",
    "The hyperplane is the line that assists in predicting a continuous value. Besides, boundary lines are two lines in a SVM that produce a margin, with positive samples on one side, and negative ones on the other. Finally, support vectors are data points that lie closest to the border."
   ]
  },
  {
   "cell_type": "code",
   "execution_count": 2,
   "id": "8120ab95",
   "metadata": {},
   "outputs": [],
   "source": [
    "def mape(actual, pred): \n",
    "    actual, pred = np.array(actual), np.array(pred)\n",
    "    return np.mean(np.abs((actual - pred) / actual)) * 100"
   ]
  },
  {
   "cell_type": "code",
   "execution_count": 3,
   "id": "23b85644",
   "metadata": {},
   "outputs": [
    {
     "data": {
      "text/html": [
       "<div>\n",
       "<style scoped>\n",
       "    .dataframe tbody tr th:only-of-type {\n",
       "        vertical-align: middle;\n",
       "    }\n",
       "\n",
       "    .dataframe tbody tr th {\n",
       "        vertical-align: top;\n",
       "    }\n",
       "\n",
       "    .dataframe thead th {\n",
       "        text-align: right;\n",
       "    }\n",
       "</style>\n",
       "<table border=\"1\" class=\"dataframe\">\n",
       "  <thead>\n",
       "    <tr style=\"text-align: right;\">\n",
       "      <th></th>\n",
       "      <th>id</th>\n",
       "      <th>breath_id</th>\n",
       "      <th>R</th>\n",
       "      <th>C</th>\n",
       "      <th>time_step</th>\n",
       "      <th>u_in</th>\n",
       "      <th>u_out</th>\n",
       "      <th>pressure</th>\n",
       "    </tr>\n",
       "  </thead>\n",
       "  <tbody>\n",
       "    <tr>\n",
       "      <th>0</th>\n",
       "      <td>1</td>\n",
       "      <td>1</td>\n",
       "      <td>20</td>\n",
       "      <td>50</td>\n",
       "      <td>0.000000</td>\n",
       "      <td>0.083334</td>\n",
       "      <td>0</td>\n",
       "      <td>5.837492</td>\n",
       "    </tr>\n",
       "    <tr>\n",
       "      <th>1</th>\n",
       "      <td>2</td>\n",
       "      <td>1</td>\n",
       "      <td>20</td>\n",
       "      <td>50</td>\n",
       "      <td>0.033652</td>\n",
       "      <td>18.383041</td>\n",
       "      <td>0</td>\n",
       "      <td>5.907794</td>\n",
       "    </tr>\n",
       "    <tr>\n",
       "      <th>2</th>\n",
       "      <td>3</td>\n",
       "      <td>1</td>\n",
       "      <td>20</td>\n",
       "      <td>50</td>\n",
       "      <td>0.067514</td>\n",
       "      <td>22.509278</td>\n",
       "      <td>0</td>\n",
       "      <td>7.876254</td>\n",
       "    </tr>\n",
       "    <tr>\n",
       "      <th>3</th>\n",
       "      <td>4</td>\n",
       "      <td>1</td>\n",
       "      <td>20</td>\n",
       "      <td>50</td>\n",
       "      <td>0.101542</td>\n",
       "      <td>22.808822</td>\n",
       "      <td>0</td>\n",
       "      <td>11.742872</td>\n",
       "    </tr>\n",
       "    <tr>\n",
       "      <th>4</th>\n",
       "      <td>5</td>\n",
       "      <td>1</td>\n",
       "      <td>20</td>\n",
       "      <td>50</td>\n",
       "      <td>0.135756</td>\n",
       "      <td>25.355850</td>\n",
       "      <td>0</td>\n",
       "      <td>12.234987</td>\n",
       "    </tr>\n",
       "    <tr>\n",
       "      <th>5</th>\n",
       "      <td>6</td>\n",
       "      <td>1</td>\n",
       "      <td>20</td>\n",
       "      <td>50</td>\n",
       "      <td>0.169698</td>\n",
       "      <td>27.259866</td>\n",
       "      <td>0</td>\n",
       "      <td>12.867706</td>\n",
       "    </tr>\n",
       "    <tr>\n",
       "      <th>6</th>\n",
       "      <td>7</td>\n",
       "      <td>1</td>\n",
       "      <td>20</td>\n",
       "      <td>50</td>\n",
       "      <td>0.203708</td>\n",
       "      <td>27.127486</td>\n",
       "      <td>0</td>\n",
       "      <td>14.695562</td>\n",
       "    </tr>\n",
       "    <tr>\n",
       "      <th>7</th>\n",
       "      <td>8</td>\n",
       "      <td>1</td>\n",
       "      <td>20</td>\n",
       "      <td>50</td>\n",
       "      <td>0.237723</td>\n",
       "      <td>26.807732</td>\n",
       "      <td>0</td>\n",
       "      <td>15.890699</td>\n",
       "    </tr>\n",
       "    <tr>\n",
       "      <th>8</th>\n",
       "      <td>9</td>\n",
       "      <td>1</td>\n",
       "      <td>20</td>\n",
       "      <td>50</td>\n",
       "      <td>0.271776</td>\n",
       "      <td>27.864715</td>\n",
       "      <td>0</td>\n",
       "      <td>15.539188</td>\n",
       "    </tr>\n",
       "    <tr>\n",
       "      <th>9</th>\n",
       "      <td>10</td>\n",
       "      <td>1</td>\n",
       "      <td>20</td>\n",
       "      <td>50</td>\n",
       "      <td>0.305732</td>\n",
       "      <td>28.313036</td>\n",
       "      <td>0</td>\n",
       "      <td>15.750094</td>\n",
       "    </tr>\n",
       "    <tr>\n",
       "      <th>10</th>\n",
       "      <td>11</td>\n",
       "      <td>1</td>\n",
       "      <td>20</td>\n",
       "      <td>50</td>\n",
       "      <td>0.339675</td>\n",
       "      <td>26.866758</td>\n",
       "      <td>0</td>\n",
       "      <td>17.296741</td>\n",
       "    </tr>\n",
       "    <tr>\n",
       "      <th>11</th>\n",
       "      <td>12</td>\n",
       "      <td>1</td>\n",
       "      <td>20</td>\n",
       "      <td>50</td>\n",
       "      <td>0.373680</td>\n",
       "      <td>26.762803</td>\n",
       "      <td>0</td>\n",
       "      <td>17.226439</td>\n",
       "    </tr>\n",
       "    <tr>\n",
       "      <th>12</th>\n",
       "      <td>13</td>\n",
       "      <td>1</td>\n",
       "      <td>20</td>\n",
       "      <td>50</td>\n",
       "      <td>0.407650</td>\n",
       "      <td>27.993274</td>\n",
       "      <td>0</td>\n",
       "      <td>16.171907</td>\n",
       "    </tr>\n",
       "    <tr>\n",
       "      <th>13</th>\n",
       "      <td>14</td>\n",
       "      <td>1</td>\n",
       "      <td>20</td>\n",
       "      <td>50</td>\n",
       "      <td>0.441804</td>\n",
       "      <td>26.789898</td>\n",
       "      <td>0</td>\n",
       "      <td>17.367044</td>\n",
       "    </tr>\n",
       "    <tr>\n",
       "      <th>14</th>\n",
       "      <td>15</td>\n",
       "      <td>1</td>\n",
       "      <td>20</td>\n",
       "      <td>50</td>\n",
       "      <td>0.476103</td>\n",
       "      <td>25.634070</td>\n",
       "      <td>0</td>\n",
       "      <td>18.070065</td>\n",
       "    </tr>\n",
       "    <tr>\n",
       "      <th>15</th>\n",
       "      <td>16</td>\n",
       "      <td>1</td>\n",
       "      <td>20</td>\n",
       "      <td>50</td>\n",
       "      <td>0.509996</td>\n",
       "      <td>26.280195</td>\n",
       "      <td>0</td>\n",
       "      <td>17.156137</td>\n",
       "    </tr>\n",
       "    <tr>\n",
       "      <th>16</th>\n",
       "      <td>17</td>\n",
       "      <td>1</td>\n",
       "      <td>20</td>\n",
       "      <td>50</td>\n",
       "      <td>0.544041</td>\n",
       "      <td>24.726714</td>\n",
       "      <td>0</td>\n",
       "      <td>18.280971</td>\n",
       "    </tr>\n",
       "    <tr>\n",
       "      <th>17</th>\n",
       "      <td>18</td>\n",
       "      <td>1</td>\n",
       "      <td>20</td>\n",
       "      <td>50</td>\n",
       "      <td>0.578179</td>\n",
       "      <td>23.467889</td>\n",
       "      <td>0</td>\n",
       "      <td>18.773086</td>\n",
       "    </tr>\n",
       "    <tr>\n",
       "      <th>18</th>\n",
       "      <td>19</td>\n",
       "      <td>1</td>\n",
       "      <td>20</td>\n",
       "      <td>50</td>\n",
       "      <td>0.612109</td>\n",
       "      <td>23.858434</td>\n",
       "      <td>0</td>\n",
       "      <td>17.859159</td>\n",
       "    </tr>\n",
       "    <tr>\n",
       "      <th>19</th>\n",
       "      <td>20</td>\n",
       "      <td>1</td>\n",
       "      <td>20</td>\n",
       "      <td>50</td>\n",
       "      <td>0.646055</td>\n",
       "      <td>21.883404</td>\n",
       "      <td>0</td>\n",
       "      <td>19.124597</td>\n",
       "    </tr>\n",
       "  </tbody>\n",
       "</table>\n",
       "</div>"
      ],
      "text/plain": [
       "    id  breath_id   R   C  time_step       u_in  u_out   pressure\n",
       "0    1          1  20  50   0.000000   0.083334      0   5.837492\n",
       "1    2          1  20  50   0.033652  18.383041      0   5.907794\n",
       "2    3          1  20  50   0.067514  22.509278      0   7.876254\n",
       "3    4          1  20  50   0.101542  22.808822      0  11.742872\n",
       "4    5          1  20  50   0.135756  25.355850      0  12.234987\n",
       "5    6          1  20  50   0.169698  27.259866      0  12.867706\n",
       "6    7          1  20  50   0.203708  27.127486      0  14.695562\n",
       "7    8          1  20  50   0.237723  26.807732      0  15.890699\n",
       "8    9          1  20  50   0.271776  27.864715      0  15.539188\n",
       "9   10          1  20  50   0.305732  28.313036      0  15.750094\n",
       "10  11          1  20  50   0.339675  26.866758      0  17.296741\n",
       "11  12          1  20  50   0.373680  26.762803      0  17.226439\n",
       "12  13          1  20  50   0.407650  27.993274      0  16.171907\n",
       "13  14          1  20  50   0.441804  26.789898      0  17.367044\n",
       "14  15          1  20  50   0.476103  25.634070      0  18.070065\n",
       "15  16          1  20  50   0.509996  26.280195      0  17.156137\n",
       "16  17          1  20  50   0.544041  24.726714      0  18.280971\n",
       "17  18          1  20  50   0.578179  23.467889      0  18.773086\n",
       "18  19          1  20  50   0.612109  23.858434      0  17.859159\n",
       "19  20          1  20  50   0.646055  21.883404      0  19.124597"
      ]
     },
     "execution_count": 3,
     "metadata": {},
     "output_type": "execute_result"
    }
   ],
   "source": [
    "%matplotlib inline\n",
    "train_data = pd.read_csv('train.csv')\n",
    "train_data.head(20)"
   ]
  },
  {
   "cell_type": "code",
   "execution_count": 4,
   "id": "138056dd",
   "metadata": {},
   "outputs": [],
   "source": [
    "data_train = train_data.copy()\n",
    "data_train.drop(columns=['id', 'breath_id', 'time_step'], axis = 1, inplace = True)"
   ]
  },
  {
   "cell_type": "code",
   "execution_count": 5,
   "id": "c8dad4a8",
   "metadata": {},
   "outputs": [],
   "source": [
    "X = data_train.drop(columns='pressure')\n",
    "y = data_train['pressure']"
   ]
  },
  {
   "cell_type": "code",
   "execution_count": 6,
   "id": "b6e598c9",
   "metadata": {},
   "outputs": [
    {
     "name": "stdout",
     "output_type": "stream",
     "text": [
      "Dimension of X_train: (4225200, 4) \n",
      "Dimension of X_test: (1810800, 4) \n",
      "Dimension of y_train: (4225200,) \n",
      "Dimension of y_test: (1810800,)\n"
     ]
    }
   ],
   "source": [
    "X_train, X_test, y_train, y_test = train_test_split(X, y, test_size=0.3, random_state=6)\n",
    "print('Dimension of X_train:', X_train.shape,'\\nDimension of X_test:', X_test.shape,'\\nDimension of y_train:', y_train.shape,'\\nDimension of y_test:', y_test.shape)"
   ]
  },
  {
   "cell_type": "code",
   "execution_count": 7,
   "id": "0eda44eb",
   "metadata": {},
   "outputs": [],
   "source": [
    "sc = StandardScaler()\n",
    "\n",
    "scaler = sc.fit(X_train)\n",
    "X_train_sc = scaler.transform(X_train)\n",
    "X_test_sc = scaler.transform(X_test)"
   ]
  },
  {
   "cell_type": "code",
   "execution_count": 8,
   "id": "d84c51b0",
   "metadata": {},
   "outputs": [],
   "source": [
    "X_train_limited = X_train_sc[:80000]\n",
    "y_train_limited = y_train_sc[:80000]"
   ]
  },
  {
   "cell_type": "markdown",
   "id": "957a6c42",
   "metadata": {},
   "source": [
    "## Hyperparameter Tuning for SVR model"
   ]
  },
  {
   "cell_type": "markdown",
   "id": "ae7e4e2f",
   "metadata": {},
   "source": [
    "C parameter adds a penalty for each misclassified data point. When c is low, the penalty for incorrectly categorized points is low, leading to the selection of a decision boundary with a high margin at the expense of a greater number of misclassifications.\n",
    "\n",
    "Because it resembles the K-Nearest Neighborhood Algorithm, RBF Kernel is well-liked. The RBF Kernel Support Vector Machines have the benefits of K-NN and solve the space complexity issue by just storing the support vectors during training rather than the complete dataset.\n",
    "\n",
    "Gamma parameter of RBF controls the distance of influence of a single training point. Low values of gamma indicates a large similarity radius which results in more points being grouped together."
   ]
  },
  {
   "cell_type": "code",
   "execution_count": 9,
   "id": "14af8bb4",
   "metadata": {},
   "outputs": [
    {
     "name": "stdout",
     "output_type": "stream",
     "text": [
      "Wall time: 0 ns\n"
     ]
    }
   ],
   "source": [
    "%%time\n",
    "SVR_model=GridSearchCV(\n",
    "    estimator = SVR(),\n",
    "    param_grid={\n",
    "       'C': [0.1,1, 10, 100], \n",
    "       'gamma': [1,0.1,0.01,0.001],\n",
    "       'kernel': ['rbf']},\n",
    "    refit=True,\n",
    "    cv=2,\n",
    "    verbose=2,\n",
    "    n_jobs=-1,\n",
    ")"
   ]
  },
  {
   "cell_type": "code",
   "execution_count": 10,
   "id": "1d3e6855",
   "metadata": {
    "scrolled": true
   },
   "outputs": [
    {
     "name": "stdout",
     "output_type": "stream",
     "text": [
      "Fitting 2 folds for each of 16 candidates, totalling 32 fits\n",
      "Best Score: 0.4606024175339485\n",
      "Best Hyperparameters: {'C': 100, 'gamma': 1, 'kernel': 'rbf'}\n"
     ]
    }
   ],
   "source": [
    "SVR_result = SVR_model.fit(X_train_limited, y_train_limited)\n",
    "#summarized result\n",
    "print('Best Score: %s' % SVR_result.best_score_)\n",
    "print('Best Hyperparameters: %s' % SVR_result.best_params_)"
   ]
  },
  {
   "cell_type": "code",
   "execution_count": 11,
   "id": "1a21c113",
   "metadata": {},
   "outputs": [
    {
     "name": "stdout",
     "output_type": "stream",
     "text": [
      "Wall time: 3h 21min 20s\n"
     ]
    }
   ],
   "source": [
    "%%time\n",
    "SVR_predict = SVR_model.predict(X_test_sc)"
   ]
  },
  {
   "cell_type": "code",
   "execution_count": 12,
   "id": "68b1465c",
   "metadata": {},
   "outputs": [],
   "source": [
    "SVR_R2 = r2_score(y_test, SVR_predict)\n",
    "SVR_MAPE = mape(y_test, SVR_predict)\n",
    "SVR_MAE = mean_absolute_error(y_test, SVR_predict)\n",
    "SVR_MSE = mean_squared_error(y_test, SVR_predict)\n",
    "SVR_RMSE = np.sqrt(SVR_MSE)"
   ]
  },
  {
   "cell_type": "code",
   "execution_count": 13,
   "id": "e21ebe50",
   "metadata": {},
   "outputs": [
    {
     "data": {
      "text/html": [
       "<div>\n",
       "<style scoped>\n",
       "    .dataframe tbody tr th:only-of-type {\n",
       "        vertical-align: middle;\n",
       "    }\n",
       "\n",
       "    .dataframe tbody tr th {\n",
       "        vertical-align: top;\n",
       "    }\n",
       "\n",
       "    .dataframe thead th {\n",
       "        text-align: right;\n",
       "    }\n",
       "</style>\n",
       "<table border=\"1\" class=\"dataframe\">\n",
       "  <thead>\n",
       "    <tr style=\"text-align: right;\">\n",
       "      <th></th>\n",
       "      <th>R Squared</th>\n",
       "      <th>Mean Absolute Percentage Error</th>\n",
       "      <th>Mean Absolute Error</th>\n",
       "      <th>Mean Squared Error</th>\n",
       "      <th>Root Mean Squared Error</th>\n",
       "    </tr>\n",
       "  </thead>\n",
       "  <tbody>\n",
       "    <tr>\n",
       "      <th>Support Vector Regression</th>\n",
       "      <td>0.46354</td>\n",
       "      <td>34.686393</td>\n",
       "      <td>3.170965</td>\n",
       "      <td>35.312361</td>\n",
       "      <td>5.94242</td>\n",
       "    </tr>\n",
       "  </tbody>\n",
       "</table>\n",
       "</div>"
      ],
      "text/plain": [
       "                           R Squared  Mean Absolute Percentage Error  \\\n",
       "Support Vector Regression    0.46354                       34.686393   \n",
       "\n",
       "                           Mean Absolute Error  Mean Squared Error  \\\n",
       "Support Vector Regression             3.170965           35.312361   \n",
       "\n",
       "                           Root Mean Squared Error  \n",
       "Support Vector Regression                  5.94242  "
      ]
     },
     "execution_count": 13,
     "metadata": {},
     "output_type": "execute_result"
    }
   ],
   "source": [
    "SVR_results = pd.DataFrame({'R Squared': SVR_R2,\n",
    "                          'Mean Absolute Percentage Error': SVR_MAPE,\n",
    "                          'Mean Absolute Error': SVR_MAE,\n",
    "                          'Mean Squared Error': SVR_MSE,\n",
    "                          'Root Mean Squared Error': SVR_RMSE}\n",
    "                           ,index=['Support Vector Regression'])\n",
    "SVR_results"
   ]
  },
  {
   "cell_type": "code",
   "execution_count": 14,
   "id": "52a5e544",
   "metadata": {},
   "outputs": [
    {
     "data": {
      "text/plain": [
       "['SVR_model.sav']"
      ]
     },
     "execution_count": 14,
     "metadata": {},
     "output_type": "execute_result"
    }
   ],
   "source": [
    "filename = 'SVR_model.sav'\n",
    "joblib.dump(SVR_model, filename)"
   ]
  },
  {
   "cell_type": "code",
   "execution_count": null,
   "id": "b21e57b9",
   "metadata": {},
   "outputs": [],
   "source": []
  }
 ],
 "metadata": {
  "kernelspec": {
   "display_name": "Python 3 (ipykernel)",
   "language": "python",
   "name": "python3"
  },
  "language_info": {
   "codemirror_mode": {
    "name": "ipython",
    "version": 3
   },
   "file_extension": ".py",
   "mimetype": "text/x-python",
   "name": "python",
   "nbconvert_exporter": "python",
   "pygments_lexer": "ipython3",
   "version": "3.9.7"
  }
 },
 "nbformat": 4,
 "nbformat_minor": 5
}
